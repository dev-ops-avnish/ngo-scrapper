{
 "cells": [
  {
   "cell_type": "code",
   "execution_count": 1,
   "metadata": {},
   "outputs": [],
   "source": [
    "import json\n",
    "data = open(\"andaman.jsonl\",\"r\").readlines()"
   ]
  },
  {
   "cell_type": "code",
   "execution_count": 7,
   "metadata": {},
   "outputs": [],
   "source": []
  },
  {
   "cell_type": "code",
   "execution_count": 14,
   "metadata": {},
   "outputs": [
    {
     "data": {
      "text/plain": [
       "68"
      ]
     },
     "execution_count": 14,
     "metadata": {},
     "output_type": "execute_result"
    }
   ],
   "source": [
    "firstline = f\"S.no.\\tID\tName\\tEmail-id\\tMobile no.\\tAddress\\tCity\\tState\\tSector\\tWebsite\"\n",
    "open(\"andaman.csv\",\"w\").write(firstline+newline)"
   ]
  },
  {
   "cell_type": "code",
   "execution_count": 19,
   "metadata": {},
   "outputs": [],
   "source": [
    "newline=\"\\n\"\n",
    "tab=\"\\t\"\n",
    "firstline = f\"S.no.\\tID\tName\\tEmail-id\\tMobile no.\\tAddress\\tCity\\tState\\tSector\\tWebsite\"\n",
    "open(\"andaman.csv\",\"w\").write(firstline+newline)\n",
    "sr = 1\n",
    "for i in data:\n",
    "    i= json.loads(i)\n",
    "    unique_id = i.get(\"infor\")[\"0\"][\"UniqueID\"] \n",
    "    ngo_name = i.get(\"infor\")[\"0\"][\"ngo_name\"]\n",
    "    Email = i.get(\"infor\")[\"0\"][\"Email\"]\n",
    "    Mobile = i.get(\"infor\")[\"0\"][\"Mobile\"]\n",
    "    Address= i.get(\"registeration_info\")[\"0\"][\"nr_add\"]\n",
    "    City =\"\"\n",
    "    State = i.get(\"infor\")[\"0\"][\"operational_states_db\"]\n",
    "    Sector =  i.get(\"infor\")[\"issues_working_db\"]\n",
    "    Website =i.get(\"infor\")[\"0\"][\"ngo_url\"]\n",
    "    linedata = f\"{sr}{tab}{unique_id}{tab}{ngo_name}{Email}{tab}{Mobile}{newline}\"\n",
    "    open(\"andaman.csv\",\"a\").write(linedata)\n",
    "    sr = sr +1 "
   ]
  }
 ],
 "metadata": {
  "kernelspec": {
   "display_name": "Python 3",
   "language": "python",
   "name": "python3"
  },
  "language_info": {
   "codemirror_mode": {
    "name": "ipython",
    "version": 3
   },
   "file_extension": ".py",
   "mimetype": "text/x-python",
   "name": "python",
   "nbconvert_exporter": "python",
   "pygments_lexer": "ipython3",
   "version": "3.8.5"
  }
 },
 "nbformat": 4,
 "nbformat_minor": 4
}
