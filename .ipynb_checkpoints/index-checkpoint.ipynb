{
 "cells": [
  {
   "cell_type": "code",
   "execution_count": 1,
   "metadata": {},
   "outputs": [],
   "source": [
    "import requests\n",
    "statelist = requests.get(\"https://ngodarpan.gov.in/index.php/home/statewise\")"
   ]
  },
  {
   "cell_type": "code",
   "execution_count": 2,
   "metadata": {},
   "outputs": [],
   "source": [
    "input_html = \"\"\"<ol class=\"rounded-list\">\n",
    "\n",
    " <!--   -->\n",
    "\n",
    "   <li><a class=\"bluelink11px\" href=\"https://ngodarpan.gov.in/index.php/home/statewise_ngo/116/35/1\">ANDAMAN &amp; NICOBAR ISLANDS&nbsp;(116)</a></li>\n",
    "    <li><a class=\"bluelink11px\" href=\"https://ngodarpan.gov.in/index.php/home/statewise_ngo/3994/28/1\">ANDHRA PRADESH&nbsp;(3994)</a></li>\n",
    "    <li><a class=\"bluelink11px\" href=\"https://ngodarpan.gov.in/index.php/home/statewise_ngo/399/12/1\">ARUNACHAL PRADESH&nbsp;(399)</a></li>\n",
    "    <li><a class=\"bluelink11px\" href=\"https://ngodarpan.gov.in/index.php/home/statewise_ngo/1824/18/1\">ASSAM&nbsp;(1824)</a></li>\n",
    "    <li><a class=\"bluelink11px\" href=\"https://ngodarpan.gov.in/index.php/home/statewise_ngo/3569/10/1\">BIHAR&nbsp;(3569)</a></li>\n",
    "    <li><a class=\"bluelink11px\" href=\"https://ngodarpan.gov.in/index.php/home/statewise_ngo/179/4/1\">CHANDIGARH&nbsp;(179)</a></li>\n",
    "    <li><a class=\"bluelink11px\" href=\"https://ngodarpan.gov.in/index.php/home/statewise_ngo/1547/22/1\">CHHATTISGARH&nbsp;(1547)</a></li>\n",
    "    <li><a class=\"bluelink11px\" href=\"https://ngodarpan.gov.in/index.php/home/statewise_ngo/24/26/1\">DADRA &amp; NAGAR HAVELI&nbsp;(24)</a></li>\n",
    "    <li><a class=\"bluelink11px\" href=\"https://ngodarpan.gov.in/index.php/home/statewise_ngo/15/25/1\">DAMAN &amp; DIU&nbsp;(15)</a></li>\n",
    "    <li><a class=\"bluelink11px\" href=\"https://ngodarpan.gov.in/index.php/home/statewise_ngo/8018/7/1\">DELHI&nbsp;(8018)</a></li>\n",
    "    <li><a class=\"bluelink11px\" href=\"https://ngodarpan.gov.in/index.php/home/statewise_ngo/213/30/1\">GOA&nbsp;(213)</a></li>\n",
    "    <li><a class=\"bluelink11px\" href=\"https://ngodarpan.gov.in/index.php/home/statewise_ngo/5127/24/1\">GUJARAT&nbsp;(5127)</a></li>\n",
    "    <li><a class=\"bluelink11px\" href=\"https://ngodarpan.gov.in/index.php/home/statewise_ngo/2266/6/1\">HARYANA&nbsp;(2266)</a></li>\n",
    "    <li><a class=\"bluelink11px\" href=\"https://ngodarpan.gov.in/index.php/home/statewise_ngo/631/2/1\">HIMACHAL PRADESH&nbsp;(631)</a></li>\n",
    "    <li><a class=\"bluelink11px\" href=\"https://ngodarpan.gov.in/index.php/home/statewise_ngo/1260/1/1\">JAMMU &amp; KASHMIR&nbsp;(1260)</a></li>\n",
    "    <li><a class=\"bluelink11px\" href=\"https://ngodarpan.gov.in/index.php/home/statewise_ngo/1824/20/1\">JHARKHAND&nbsp;(1824)</a></li>\n",
    "    <li><a class=\"bluelink11px\" href=\"https://ngodarpan.gov.in/index.php/home/statewise_ngo/5930/29/1\">KARNATAKA&nbsp;(5930)</a></li>\n",
    "    <li><a class=\"bluelink11px\" href=\"https://ngodarpan.gov.in/index.php/home/statewise_ngo/3114/32/1\">KERALA&nbsp;(3114)</a></li>\n",
    "    <li><a class=\"bluelink11px\" href=\"https://ngodarpan.gov.in/index.php/home/statewise_ngo/145/37/1\">LADAKH&nbsp;(145)</a></li>\n",
    "    <li><a class=\"bluelink11px\" href=\"https://ngodarpan.gov.in/index.php/home/statewise_ngo/2/31/1\">LAKSHADWEEP&nbsp;(2)</a></li>\n",
    "    <li><a class=\"bluelink11px\" href=\"https://ngodarpan.gov.in/index.php/home/statewise_ngo/5357/23/1\">MADHYA PRADESH&nbsp;(5357)</a></li>\n",
    "    <li><a class=\"bluelink11px\" href=\"https://ngodarpan.gov.in/index.php/home/statewise_ngo/14281/27/1\">MAHARASHTRA&nbsp;(14281)</a></li>\n",
    "    <li><a class=\"bluelink11px\" href=\"https://ngodarpan.gov.in/index.php/home/statewise_ngo/2092/14/1\">MANIPUR&nbsp;(2092)</a></li>\n",
    "    <li><a class=\"bluelink11px\" href=\"https://ngodarpan.gov.in/index.php/home/statewise_ngo/241/17/1\">MEGHALAYA&nbsp;(241)</a></li>\n",
    "    <li><a class=\"bluelink11px\" href=\"https://ngodarpan.gov.in/index.php/home/statewise_ngo/199/15/1\">MIZORAM&nbsp;(199)</a></li>\n",
    "    <li><a class=\"bluelink11px\" href=\"https://ngodarpan.gov.in/index.php/home/statewise_ngo/360/13/1\">NAGALAND&nbsp;(360)</a></li>\n",
    "    <li><a class=\"bluelink11px\" href=\"https://ngodarpan.gov.in/index.php/home/statewise_ngo/3190/21/1\">ORISSA&nbsp;(3190)</a></li>\n",
    "    <li><a class=\"bluelink11px\" href=\"https://ngodarpan.gov.in/index.php/home/statewise_ngo/257/34/1\">PUDUCHERRY&nbsp;(257)</a></li>\n",
    "    <li><a class=\"bluelink11px\" href=\"https://ngodarpan.gov.in/index.php/home/statewise_ngo/1329/3/1\">PUNJAB&nbsp;(1329)</a></li>\n",
    "    <li><a class=\"bluelink11px\" href=\"https://ngodarpan.gov.in/index.php/home/statewise_ngo/3983/8/1\">RAJASTHAN&nbsp;(3983)</a></li>\n",
    "    <li><a class=\"bluelink11px\" href=\"https://ngodarpan.gov.in/index.php/home/statewise_ngo/93/11/1\">SIKKIM&nbsp;(93)</a></li>\n",
    "    <li><a class=\"bluelink11px\" href=\"https://ngodarpan.gov.in/index.php/home/statewise_ngo/7404/33/1\">TAMIL NADU&nbsp;(7404)</a></li>\n",
    "    <li><a class=\"bluelink11px\" href=\"https://ngodarpan.gov.in/index.php/home/statewise_ngo/2361/36/1\">TELANGANA&nbsp;(2361)</a></li>\n",
    "    <li><a class=\"bluelink11px\" href=\"https://ngodarpan.gov.in/index.php/home/statewise_ngo/401/16/1\">TRIPURA&nbsp;(401)</a></li>\n",
    "    <li><a class=\"bluelink11px\" href=\"https://ngodarpan.gov.in/index.php/home/statewise_ngo/14747/9/1\">UTTAR PRADESH&nbsp;(14747)</a></li>\n",
    "    <li><a class=\"bluelink11px\" href=\"https://ngodarpan.gov.in/index.php/home/statewise_ngo/1537/5/1\">UTTARAKHAND&nbsp;(1537)</a></li>\n",
    "    <li><a class=\"bluelink11px\" href=\"https://ngodarpan.gov.in/index.php/home/statewise_ngo/8046/19/1\">WEST BENGAL&nbsp;(8046)</a></li>\n",
    "  \n",
    "</ol>\"\"\""
   ]
  },
  {
   "cell_type": "code",
   "execution_count": 3,
   "metadata": {},
   "outputs": [
    {
     "data": {
      "text/plain": [
       "['https://ngodarpan.gov.in/index.php/home/statewise_ngo/116/35/1',\n",
       " 'https://ngodarpan.gov.in/index.php/home/statewise_ngo/3994/28/1',\n",
       " 'https://ngodarpan.gov.in/index.php/home/statewise_ngo/399/12/1',\n",
       " 'https://ngodarpan.gov.in/index.php/home/statewise_ngo/1824/18/1',\n",
       " 'https://ngodarpan.gov.in/index.php/home/statewise_ngo/3569/10/1',\n",
       " 'https://ngodarpan.gov.in/index.php/home/statewise_ngo/179/4/1',\n",
       " 'https://ngodarpan.gov.in/index.php/home/statewise_ngo/1547/22/1',\n",
       " 'https://ngodarpan.gov.in/index.php/home/statewise_ngo/24/26/1',\n",
       " 'https://ngodarpan.gov.in/index.php/home/statewise_ngo/15/25/1',\n",
       " 'https://ngodarpan.gov.in/index.php/home/statewise_ngo/8018/7/1',\n",
       " 'https://ngodarpan.gov.in/index.php/home/statewise_ngo/213/30/1',\n",
       " 'https://ngodarpan.gov.in/index.php/home/statewise_ngo/5127/24/1',\n",
       " 'https://ngodarpan.gov.in/index.php/home/statewise_ngo/2266/6/1',\n",
       " 'https://ngodarpan.gov.in/index.php/home/statewise_ngo/631/2/1',\n",
       " 'https://ngodarpan.gov.in/index.php/home/statewise_ngo/1260/1/1',\n",
       " 'https://ngodarpan.gov.in/index.php/home/statewise_ngo/1824/20/1',\n",
       " 'https://ngodarpan.gov.in/index.php/home/statewise_ngo/5930/29/1',\n",
       " 'https://ngodarpan.gov.in/index.php/home/statewise_ngo/3114/32/1',\n",
       " 'https://ngodarpan.gov.in/index.php/home/statewise_ngo/145/37/1',\n",
       " 'https://ngodarpan.gov.in/index.php/home/statewise_ngo/2/31/1',\n",
       " 'https://ngodarpan.gov.in/index.php/home/statewise_ngo/5357/23/1',\n",
       " 'https://ngodarpan.gov.in/index.php/home/statewise_ngo/14281/27/1',\n",
       " 'https://ngodarpan.gov.in/index.php/home/statewise_ngo/2092/14/1',\n",
       " 'https://ngodarpan.gov.in/index.php/home/statewise_ngo/241/17/1',\n",
       " 'https://ngodarpan.gov.in/index.php/home/statewise_ngo/199/15/1',\n",
       " 'https://ngodarpan.gov.in/index.php/home/statewise_ngo/360/13/1',\n",
       " 'https://ngodarpan.gov.in/index.php/home/statewise_ngo/3190/21/1',\n",
       " 'https://ngodarpan.gov.in/index.php/home/statewise_ngo/257/34/1',\n",
       " 'https://ngodarpan.gov.in/index.php/home/statewise_ngo/1329/3/1',\n",
       " 'https://ngodarpan.gov.in/index.php/home/statewise_ngo/3983/8/1',\n",
       " 'https://ngodarpan.gov.in/index.php/home/statewise_ngo/93/11/1',\n",
       " 'https://ngodarpan.gov.in/index.php/home/statewise_ngo/7404/33/1',\n",
       " 'https://ngodarpan.gov.in/index.php/home/statewise_ngo/2361/36/1',\n",
       " 'https://ngodarpan.gov.in/index.php/home/statewise_ngo/401/16/1',\n",
       " 'https://ngodarpan.gov.in/index.php/home/statewise_ngo/14747/9/1',\n",
       " 'https://ngodarpan.gov.in/index.php/home/statewise_ngo/1537/5/1',\n",
       " 'https://ngodarpan.gov.in/index.php/home/statewise_ngo/8046/19/1']"
      ]
     },
     "execution_count": 3,
     "metadata": {},
     "output_type": "execute_result"
    }
   ],
   "source": [
    "from bs4 import BeautifulSoup as bs\n",
    "statelinks = [i.attrs['href'] for i in bs(input_html).select(\"a.bluelink11px\")]\n",
    "statelinks"
   ]
  },
  {
   "cell_type": "code",
   "execution_count": 4,
   "metadata": {},
   "outputs": [
    {
     "ename": "NameError",
     "evalue": "name 'y' is not defined",
     "output_type": "error",
     "traceback": [
      "\u001b[0;31m---------------------------------------------------------------------------\u001b[0m",
      "\u001b[0;31mNameError\u001b[0m                                 Traceback (most recent call last)",
      "\u001b[0;32m<ipython-input-4-9063a9f0e032>\u001b[0m in \u001b[0;36m<module>\u001b[0;34m\u001b[0m\n\u001b[0;32m----> 1\u001b[0;31m \u001b[0my\u001b[0m\u001b[0;34m\u001b[0m\u001b[0;34m\u001b[0m\u001b[0m\n\u001b[0m",
      "\u001b[0;31mNameError\u001b[0m: name 'y' is not defined"
     ]
    }
   ],
   "source": [
    "y"
   ]
  },
  {
   "cell_type": "code",
   "execution_count": 5,
   "metadata": {},
   "outputs": [],
   "source": [
    "%config Completer.use_jedi = False"
   ]
  },
  {
   "cell_type": "code",
   "execution_count": 31,
   "metadata": {},
   "outputs": [],
   "source": [
    "z = requests.get(\"https://ngodarpan.gov.in/index.php/home/statewise_ngo/8046/19/1\")"
   ]
  },
  {
   "cell_type": "code",
   "execution_count": 40,
   "metadata": {},
   "outputs": [],
   "source": [
    "tbl = bs(z.content).select(\".ibox-content tbody tr \")"
   ]
  },
  {
   "cell_type": "code",
   "execution_count": 56,
   "metadata": {},
   "outputs": [
    {
     "name": "stdout",
     "output_type": "stream",
     "text": [
      "155561\n",
      "175398\n",
      "175604\n",
      "202865\n",
      "257042\n",
      "200790\n",
      "200709\n",
      "252181\n",
      "152375\n",
      "173802\n"
     ]
    }
   ],
   "source": [
    "for tr in tbl:\n",
    "    tds = tr.select(\"a\")[0].attrs[\"onclick\"]\n",
    "    number = re.sub(r\"\\D\", \"\", tds)\n",
    "    print (int(number))"
   ]
  },
  {
   "cell_type": "code",
   "execution_count": 54,
   "metadata": {},
   "outputs": [
    {
     "data": {
      "text/plain": [
       "'232131'"
      ]
     },
     "execution_count": 54,
     "metadata": {},
     "output_type": "execute_result"
    }
   ],
   "source": [
    "import re\n",
    "re.sub(r\"\\D\", \"\", \"sadas232131\")"
   ]
  },
  {
   "cell_type": "code",
   "execution_count": 59,
   "metadata": {},
   "outputs": [
    {
     "data": {
      "text/plain": [
       "'42c01192b5f1ee7e386294128a6a85d7'"
      ]
     },
     "execution_count": 59,
     "metadata": {},
     "output_type": "execute_result"
    }
   ],
   "source": []
  },
  {
   "cell_type": "code",
   "execution_count": 66,
   "metadata": {},
   "outputs": [
    {
     "data": {
      "text/plain": [
       "b'<!DOCTYPE html>\\n<html lang=\"en\">\\n<head>\\n<meta charset=\"utf-8\">\\n<title>Error</title>\\n<style type=\"text/css\">\\n\\n::selection { background-color: #E13300; color: white; }\\n::-moz-selection { background-color: #E13300; color: white; }\\n\\nbody {\\n\\tbackground-color: #fff;\\n\\tmargin: 40px;\\n\\tfont: 13px/20px normal Helvetica, Arial, sans-serif;\\n\\tcolor: #4F5155;\\n}\\n\\na {\\n\\tcolor: #003399;\\n\\tbackground-color: transparent;\\n\\tfont-weight: normal;\\n}\\n\\nh1 {\\n\\tcolor: #444;\\n\\tbackground-color: transparent;\\n\\tborder-bottom: 1px solid #D0D0D0;\\n\\tfont-size: 19px;\\n\\tfont-weight: normal;\\n\\tmargin: 0 0 14px 0;\\n\\tpadding: 14px 15px 10px 15px;\\n}\\n\\ncode {\\n\\tfont-family: Consolas, Monaco, Courier New, Courier, monospace;\\n\\tfont-size: 12px;\\n\\tbackground-color: #f9f9f9;\\n\\tborder: 1px solid #D0D0D0;\\n\\tcolor: #002166;\\n\\tdisplay: block;\\n\\tmargin: 14px 0 14px 0;\\n\\tpadding: 12px 10px 12px 10px;\\n}\\n\\n#container {\\n\\tmargin: 10px;\\n\\tborder: 1px solid #D0D0D0;\\n\\tbox-shadow: 0 0 8px #D0D0D0;\\n}\\n\\np {\\n\\tmargin: 12px 15px 12px 15px;\\n}\\n</style>\\n</head>\\n<body>\\n\\t<div id=\"container\">\\n\\t\\t<h1>An Error Was Encountered</h1>\\n\\t\\t<p>The action you have requested is not allowed.</p>\\t</div>\\n</body>\\n</html>'"
      ]
     },
     "execution_count": 66,
     "metadata": {},
     "output_type": "execute_result"
    }
   ],
   "source": [
    "token = requests.get(\"https://ngodarpan.gov.in/index.php/ajaxcontroller/get_csrf\").json().get(\"csrf_token\")\n",
    "payload = {'id':'232131','csrf_test_name':token}\n",
    "requests.post(\"https://ngodarpan.gov.in/index.php/ajaxcontroller/show_ngo_info\",data=payload).content"
   ]
  },
  {
   "cell_type": "code",
   "execution_count": 1,
   "metadata": {},
   "outputs": [
    {
     "name": "stdout",
     "output_type": "stream",
     "text": [
      "c7107193f3af91b981552bd5f3e528b6\n"
     ]
    }
   ],
   "source": [
    "import requests\n",
    "\n",
    "cookies = {\n",
    "    'ci_session': '9ac8h98npvmd2f0t8ijv95ugunqklb93',\n",
    "    'csrf_cookie_name': 'e196cb2b784ea180fae2951395f46711',\n",
    "}\n",
    "\n",
    "headers = {\n",
    "    'Connection': 'keep-alive',\n",
    "    'sec-ch-ua': '\"Google Chrome\";v=\"87\", \" Not;A Brand\";v=\"99\", \"Chromium\";v=\"87\"',\n",
    "    'Accept': '*/*',\n",
    "    'DNT': '1',\n",
    "    'X-Requested-With': 'XMLHttpRequest',\n",
    "    'sec-ch-ua-mobile': '?0',\n",
    "    'User-Agent': 'Mozilla/5.0 (X11; Linux x86_64) AppleWebKit/537.36 (KHTML, like Gecko) Chrome/87.0.4280.141 Safari/537.36',\n",
    "    'Content-Type': 'application/x-www-form-urlencoded; charset=UTF-8',\n",
    "    'Origin': 'https://ngodarpan.gov.in',\n",
    "    'Sec-Fetch-Site': 'same-origin',\n",
    "    'Sec-Fetch-Mode': 'cors',\n",
    "    'Sec-Fetch-Dest': 'empty',\n",
    "    'Referer': 'https://ngodarpan.gov.in/index.php/home/statewise_ngo/8046/19/1',\n",
    "    'Accept-Language': 'en-US,en;q=0.9,hi-IN;q=0.8,hi;q=0.7,da;q=0.6',\n",
    "}\n",
    "token = requests.get(\"https://ngodarpan.gov.in/index.php/ajaxcontroller/get_csrf\").json().get(\"csrf_token\")\n",
    "print (token)\n",
    "data = {\n",
    "  'id': '175398',\n",
    "  'csrf_test_name': token\n",
    "}\n",
    "\n",
    "response = requests.post('https://ngodarpan.gov.in/index.php/ajaxcontroller/show_ngo_info', headers=headers,data=data)"
   ]
  },
  {
   "cell_type": "code",
   "execution_count": 2,
   "metadata": {},
   "outputs": [
    {
     "data": {
      "text/plain": [
       "<Response [403]>"
      ]
     },
     "execution_count": 2,
     "metadata": {},
     "output_type": "execute_result"
    }
   ],
   "source": [
    "response"
   ]
  },
  {
   "cell_type": "code",
   "execution_count": 34,
   "metadata": {},
   "outputs": [],
   "source": [
    "nextpage = bs(z.content).select(\"ul.pagination li a\")[-1].attrs[\"href\"]"
   ]
  },
  {
   "cell_type": "code",
   "execution_count": 38,
   "metadata": {},
   "outputs": [],
   "source": [
    "totalPage = int(nextpage.replace(\"https://ngodarpan.gov.in/index.php/home/statewise_ngo/\",\"\").replace(\"?\",\"\").split(\"/\")[-1])"
   ]
  },
  {
   "cell_type": "code",
   "execution_count": 39,
   "metadata": {},
   "outputs": [
    {
     "data": {
      "text/plain": [
       "805"
      ]
     },
     "execution_count": 39,
     "metadata": {},
     "output_type": "execute_result"
    }
   ],
   "source": [
    "totalPage"
   ]
  },
  {
   "cell_type": "code",
   "execution_count": 30,
   "metadata": {},
   "outputs": [
    {
     "data": {
      "text/plain": [
       "'https://ngodarpan.gov.in/index.php/home/statewise_ngo/8046/19/3?'"
      ]
     },
     "execution_count": 30,
     "metadata": {},
     "output_type": "execute_result"
    }
   ],
   "source": [
    "bs(requests.get(nextpage).content).select(\"ul.pagination li a\")[-2].attrs[\"href\"]"
   ]
  },
  {
   "cell_type": "code",
   "execution_count": 21,
   "metadata": {},
   "outputs": [],
   "source": [
    "import urllib.parse"
   ]
  },
  {
   "cell_type": "code",
   "execution_count": 24,
   "metadata": {},
   "outputs": [
    {
     "data": {
      "text/plain": [
       "ParseResult(scheme='https', netloc='ngodarpan.gov.in', path='/index.php/home/statewise_ngo/8046/19/1', params='', query='', fragment='')"
      ]
     },
     "execution_count": 24,
     "metadata": {},
     "output_type": "execute_result"
    }
   ],
   "source": [
    "from urllib.parse import urlparse\n",
    "urlparse(\"https://ngodarpan.gov.in/index.php/home/statewise_ngo/8046/19/1\")"
   ]
  },
  {
   "cell_type": "code",
   "execution_count": null,
   "metadata": {},
   "outputs": [],
   "source": []
  }
 ],
 "metadata": {
  "kernelspec": {
   "display_name": "Python 3.8.5 64-bit",
   "language": "python",
   "name": "python38564bit0a17dd9f6eac481b9e4aadc6403f9f75"
  },
  "language_info": {
   "codemirror_mode": {
    "name": "ipython",
    "version": 3
   },
   "file_extension": ".py",
   "mimetype": "text/x-python",
   "name": "python",
   "nbconvert_exporter": "python",
   "pygments_lexer": "ipython3",
   "version": "3.8.5"
  }
 },
 "nbformat": 4,
 "nbformat_minor": 2
}
